{
 "cells": [
  {
   "cell_type": "markdown",
   "id": "dbc9ee9a-a388-422a-bed6-fb70d01b12f9",
   "metadata": {},
   "source": [
    "# Tutorial 3\n",
    "\n",
    "#### Exercise 1\n",
    "\n",
    "1. Write a Python function which accepts a single argument representing an angle θ in radians\n",
    "and returns the corresponding 2D rotation matrix by calling the appropriate function in\n",
    "the Python Robotics toolbox."
   ]
  },
  {
   "cell_type": "code",
   "execution_count": 4,
   "id": "7fc85545-3ea6-4615-9cf1-cae73a195ef5",
   "metadata": {},
   "outputs": [
    {
     "name": "stdin",
     "output_type": "stream",
     "text": [
      "Give an angle in radians: 2\n"
     ]
    },
    {
     "name": "stdout",
     "output_type": "stream",
     "text": [
      "[[-0.41614684 -0.90929743]\n",
      " [ 0.90929743 -0.41614684]]\n"
     ]
    }
   ],
   "source": [
    "import math\n",
    "import numpy as np\n",
    "from scipy import linalg, optimize\n",
    "import matplotlib.pyplot as plt\n",
    "from spatialmath import *\n",
    "from spatialmath.base import *\n",
    "from spatialmath.base import sym\n",
    "from spatialgeometry import *\n",
    "from roboticstoolbox import *\n",
    "\n",
    "def rotation_matrix(theta):\n",
    "    return rot2(theta)\n",
    "\n",
    "theta = int(input(\"Give an angle in radians:\"))\n",
    "print(rotation_matrix(theta))"
   ]
  },
  {
   "cell_type": "markdown",
   "id": "ec94c827-f542-4d0e-8155-974448b543d2",
   "metadata": {},
   "source": [
    "2. What is the type of the returned matrix (use the type Python function to figure it out)"
   ]
  },
  {
   "cell_type": "code",
   "execution_count": 6,
   "id": "d32e345e-79c6-4320-8f40-3aaf258092c4",
   "metadata": {},
   "outputs": [
    {
     "name": "stdin",
     "output_type": "stream",
     "text": [
      "Give an angle in radians: 2\n"
     ]
    },
    {
     "name": "stdout",
     "output_type": "stream",
     "text": [
      "<class 'numpy.ndarray'>\n"
     ]
    }
   ],
   "source": [
    "def rotation_matrix(theta):\n",
    "    return rot2(theta)\n",
    "\n",
    "theta = int(input(\"Give an angle in radians:\"))\n",
    "print(type(rotation_matrix(theta)))"
   ]
  },
  {
   "cell_type": "markdown",
   "id": "628e8ea7-02b3-4af1-a6cd-93dc43debca3",
   "metadata": {},
   "source": [
    "3. Extend your function so that it accepts a second argument which is a string. If the string is 'deg' it calculates the rotation in degrees, otherwise if the string is 'rad' it calculates the rotation matrix in radians. For any other value of the second argument the function returns an error."
   ]
  },
  {
   "cell_type": "code",
   "execution_count": 8,
   "id": "a4bea8cf-78f6-4664-a9a8-f903827a14d6",
   "metadata": {},
   "outputs": [
    {
     "name": "stdin",
     "output_type": "stream",
     "text": [
      "Give an angle: 2\n",
      "Give rad/deg rad\n"
     ]
    },
    {
     "name": "stdout",
     "output_type": "stream",
     "text": [
      "[[-0.41614684 -0.90929743]\n",
      " [ 0.90929743 -0.41614684]]\n"
     ]
    }
   ],
   "source": [
    "def rotation_matrix(theta, type): \n",
    "    if type == 'deg':\n",
    "        return rot2(theta, 'deg')\n",
    "    elif type == 'rad':\n",
    "        return rot2(theta)\n",
    "    else:\n",
    "        print('Error, your input value must be rad or def')\n",
    "\n",
    "theta = int(input(\"Give an angle:\"))\n",
    "type = input('Give rad/deg')\n",
    "\n",
    "new_rotation = rotation_matrix(theta,type)\n",
    "\n",
    "print(new_rotation)\n"
   ]
  },
  {
   "cell_type": "markdown",
   "id": "b57f50bb-aac2-4d01-b35b-cb34868d9ffe",
   "metadata": {},
   "source": [
    "#### Exercise 2\n",
    "\n",
    "Create a 1-dimensional numpy array from a Python list. Create two different 2-dimensional numpy arrays and multiply them together. Confirm that the result of the matrix multiplication is correct by doing the multiplication manually as well."
   ]
  },
  {
   "cell_type": "code",
   "execution_count": 10,
   "id": "061f8818-eaf5-4211-a11a-ebfc75182e84",
   "metadata": {},
   "outputs": [
    {
     "name": "stdout",
     "output_type": "stream",
     "text": [
      "[[2 8 9]\n",
      " [3 8 1]]\n"
     ]
    }
   ],
   "source": [
    "\n",
    "\n",
    "#a = np.array([[1,2],[3,4]])\n",
    "#b = np.array([[2,4],[1,2]])\n",
    " \n",
    "# print(a*b)\n",
    "  \n",
    "#user_list = list(input('Give a series of numbers'))\n",
    "#array_1 = np.array(user_list)\n",
    "#print(array_1)\n",
    "\n",
    "a = np.array([[1,2,3],[3,4,1]])\n",
    "b = np.array([[2,4,3],[1,2,1]])\n",
    "\n",
    "print(a*b)"
   ]
  },
  {
   "cell_type": "markdown",
   "id": "f80b631e-1907-42c4-8d97-a1ebdffa5946",
   "metadata": {},
   "source": [
    "#### Exercise 4\n",
    "\n",
    "Write a Python function which accepts 2 arguments corresponding to angles (in degrees) and plots the reference frames after applying rotation with respect to the given angles. The first frame should be in blue colour and the second in red. Hint: Use the trplot2 function of the toolbox."
   ]
  },
  {
   "cell_type": "code",
   "execution_count": 12,
   "id": "9be6e60b-22fb-48a3-8d52-c308692db353",
   "metadata": {},
   "outputs": [
    {
     "data": {
      "image/png": "[encoded data removed]",
      "text/plain": [
       "<Figure size 640x480 with 1 Axes>"
      ]
     },
     "metadata": {},
     "output_type": "display_data"
    }
   ],
   "source": [
    "\n",
    "\n",
    "def plot_rotated(angle1,angle2):\n",
    "    \n",
    "    TA = rot2(angle1, 'deg')\n",
    "    TO = rot2(angle2, 'deg')\n",
    "    \n",
    "    #plotvol2([0,5]);\n",
    "    trplot2(TA, frame=\"A\", color=\"b\");\n",
    "    trplot2(TO, frame=\"0\", color=\"r\");\n",
    "    \n",
    "plot_rotated(45,90)\n",
    "    "
   ]
  },
  {
   "cell_type": "markdown",
   "id": "57985f06-16c6-4b92-a389-94819b11cda4",
   "metadata": {},
   "source": [
    "#### Exercise 5\n",
    "\n",
    "Without using the Robotics Toolbox write a Python function which accepts 2 arguments, an\n",
    "angle θ and a list (txty) corresponding to a translation vector. The function should return the\n",
    "3 × 3 homogeneous transformation for that angle and translation as a numpy array.\n"
   ]
  },
  {
   "cell_type": "code",
   "execution_count": 14,
   "id": "79277212-f62e-4b09-b45d-13becdbf02ad",
   "metadata": {},
   "outputs": [
    {
     "name": "stdout",
     "output_type": "stream",
     "text": [
      "([0.984807753012208, -0.17364817766693033, 0], [0.17364817766693033, 0.984807753012208, 1], [0, 0, 1])\n"
     ]
    }
   ],
   "source": [
    "def homoTransf(theta, vecList):\n",
    "    # get theta\n",
    "    thisTheta = np.radians(theta)\n",
    "    \n",
    "    #create homogeneous\n",
    "    res_array =([np.cos(thisTheta),-np.sin(thisTheta), vecList[0]],\n",
    "                         [np.sin(thisTheta), np.cos(thisTheta), vecList[1]],\n",
    "                         [0,0,1])\n",
    "    print(res_array)\n",
    "\n",
    "homoTransf(10,[0,1])"
   ]
  },
  {
   "cell_type": "markdown",
   "id": "7c150e3e-12dc-4bf9-a4a2-7a1e99a69ef7",
   "metadata": {},
   "source": [
    "#### Exercise 6\n",
    "\n",
    "A frame B is created by rotating a 3D frame A about the z axis by 70 degrees and translating\n",
    "frame A by 20 units in axis x and 10 units in axis y.\n",
    "\n",
    "1. Write some Python code which returns a numpy array corresponding to the homogeneous\n",
    "transformation describing the above"
   ]
  },
  {
   "cell_type": "code",
   "execution_count": 5,
   "id": "b9dfd9da-02e1-4ca0-b9d1-5e7322c3f561",
   "metadata": {},
   "outputs": [
    {
     "data": {
      "text/latex": [
       "$\\displaystyle \\left[\\begin{matrix}0.342020143325669 & -0.939692620785908 & 0.0 & 20.0\\\\0.939692620785908 & 0.342020143325669 & 0.0 & 10.0\\\\0.0 & 0.0 & 1.0 & 0.0\\\\0.0 & 0.0 & 0.0 & 1.0\\end{matrix}\\right]$"
      ],
      "text/plain": [
       "[[0.342020143325669, -0.939692620785908, 0.0, 20.0], [0.939692620785908, 0.342020143325669, 0.0, 10.0], [0.0, 0.0, 1.0, 0.0], [0.0, 0.0, 0.0, 1.0]]"
      ]
     },
     "execution_count": 5,
     "metadata": {},
     "output_type": "execute_result"
    }
   ],
   "source": [
    "import math\n",
    "import numpy as np\n",
    "from scipy import linalg, optimize\n",
    "import matplotlib.pyplot as plt\n",
    "from spatialmath import *\n",
    "from spatialmath.base import *\n",
    "from spatialmath.base import sym\n",
    "from spatialgeometry import *\n",
    "from roboticstoolbox import *\n",
    "from sympy import *\n",
    "\n",
    "theta = 70\n",
    "vecListZ = (20, 10, 0)  \n",
    "\n",
    "R = np.array([[np.cos(np.radians(theta)), -np.sin(np.radians(theta)), 0, vecListZ[0]], \n",
    "              [np.sin(np.radians(theta)),  np.cos(np.radians(theta)), 0, vecListZ[1]],  \n",
    "              [0, 0,      1, vecListZ[2]],  # (z-axis, no rotation)\n",
    "              [0,  0,    0, 1]])           \n",
    "\n",
    "# Output the result\n",
    "simplify(R)\n"
   ]
  },
  {
   "cell_type": "markdown",
   "id": "489d918f-2e43-4e35-9fe0-e970f5742e4d",
   "metadata": {},
   "source": [
    "2. A point $P$ has the following coordinates with respect to frame $B$: (3.1, 8, 2).\n",
    "\n",
    "Calculate the coordinates of point $P$ with respect to frame $A$ using the homogeneous transformation you calculated previously.\n",
    "\n",
    "**Hint**: Use the ```math.radians``` function to convert degrees to radians (see ```help(math.radians)```)"
   ]
  },
  {
   "cell_type": "code",
   "execution_count": 30,
   "id": "303a45d6-2d1f-4b0b-b922-1df1968bc1b6",
   "metadata": {},
   "outputs": [
    {
     "name": "stdout",
     "output_type": "stream",
     "text": [
      "Coordinates of the point in frame B: (13.542721478022306, 15.649208271041667, 2.0, 1.0)\n",
      "[[13.54272148 15.64920827  2.        ]]\n",
      "13.542721478022306 15.649208271041667 2.0 1.0\n"
     ]
    }
   ],
   "source": [
    "import math\n",
    "import numpy as np\n",
    "from scipy import linalg, optimize\n",
    "import matplotlib.pyplot as plt\n",
    "from spatialmath import *\n",
    "from spatialmath.base import *\n",
    "from spatialmath.base import sym\n",
    "from spatialgeometry import *\n",
    "from roboticstoolbox import *\n",
    "\n",
    "theta = 70\n",
    "vecListZ = (20, 10, 0)  # Translation vector [x, y, z]\n",
    "\n",
    "# Rotation matrix around z-axis\n",
    "cos_theta = np.cos(np.radians(theta))\n",
    "sin_theta = np.sin(np.radians(theta))\n",
    "\n",
    "# Homogeneous transformation matrix\n",
    "R = [[cos_theta, -sin_theta, 0, vecListZ[0]],  # Row 1: Rotation + Translation in x\n",
    "     [sin_theta,  cos_theta, 0, vecListZ[1]],  # Row 2: Rotation + Translation in y\n",
    "     [0,         0,          1, vecListZ[2]],  # Row 3: No rotation in z, just translation\n",
    "     [0,         0,          0, 1]]            # Row 4: Homogeneous coordinates\n",
    "\n",
    "# Point in frame A\n",
    "point_A = [3.1, 8, 2, 1]  # Homogeneous coordinates of the point\n",
    "\n",
    "# Perform the matrix multiplication manually\n",
    "point_B_x = R[0][0] * point_A[0] + R[0][1] * point_A[1] + R[0][2] * point_A[2] + R[0][3] * point_A[3]  # New x\n",
    "point_B_y = R[1][0] * point_A[0] + R[1][1] * point_A[1] + R[1][2] * point_A[2] + R[1][3] * point_A[3]  # New y\n",
    "point_B_z = R[2][0] * point_A[0] + R[2][1] * point_A[1] + R[2][2] * point_A[2] + R[2][3] * point_A[3]  # New z\n",
    "point_B_w = R[3][0] * point_A[0] + R[3][1] * point_A[1] + R[3][2] * point_A[2] + R[3][3] * point_A[3]  # Homogeneous coordinate - should be 1 (?)\n",
    "\n",
    "# Output the new point coordinates in frame B\n",
    "print(f\"Coordinates of the point in frame B: ({point_B_x}, {point_B_y}, {point_B_z}, {point_B_w})\")\n",
    "\n",
    "trial1 = cos_theta * 3.1 + -sin_theta * 8 + 0 * 2 + 20 * 1\n",
    "trial2 = sin_theta * 3.1 + cos_theta * 8 + 0 * 2 + 10 * 1\n",
    "trial3 = 0 * 3.1 + 0 * 8 + 1 *2 + 0 * 1 \n",
    "trial4 = 0 * 3.1 + 0 * 8 + 0 * 2 + 1 * 1\n",
    "\n",
    "pointP_A = (point_B_x, point_B_y, point_B_z)\n",
    "\n",
    "print(np.matrix(pointP_A))\n",
    "#simplify(pointP_A)\n",
    "print(trial1,trial2, trial3, trial4)\n",
    "\n"
   ]
  },
  {
   "cell_type": "code",
   "execution_count": 28,
   "id": "022f0d6b-65dd-4795-a627-e53358022a78",
   "metadata": {},
   "outputs": [
    {
     "name": "stdout",
     "output_type": "stream",
     "text": [
      "Coordinates of the point in frame B: (13.54, 15.65, 2.00(, 1.00))\n",
      "[['13.54' '15.65' '2.00' '1.00']]\n"
     ]
    }
   ],
   "source": [
    "import math\n",
    "import numpy as np\n",
    "from scipy import linalg, optimize\n",
    "import matplotlib.pyplot as plt\n",
    "from spatialmath import *\n",
    "from spatialmath.base import *\n",
    "from spatialmath.base import sym\n",
    "from spatialgeometry import *\n",
    "from roboticstoolbox import *\n",
    "\n",
    "theta = 70\n",
    "vecListZ = (20, 10, 0)  # Translation vector [x, y, z]\n",
    "\n",
    "# Rotation matrix around z-axis\n",
    "cos_theta = np.cos(np.radians(theta))\n",
    "sin_theta = np.sin(np.radians(theta))\n",
    "\n",
    "# Homogeneous transformation matrix\n",
    "R = [[cos_theta, -sin_theta, 0, vecListZ[0]],  # Row 1: Rotation + Translation in x\n",
    "     [sin_theta,  cos_theta, 0, vecListZ[1]],  # Row 2: Rotation + Translation in y\n",
    "     [0,         0,          1, vecListZ[2]],  # Row 3: No rotation in z, just translation\n",
    "     [0,         0,          0, 1]]            # Row 4: Homogeneous coordinates\n",
    "\n",
    "# Point in frame A\n",
    "point_A = [3.1, 8, 2, 1]  # Homogeneous coordinates of the point\n",
    "\n",
    "# Perform the matrix multiplication \n",
    "point_B_x = R[0][0] * point_A[0] + R[0][1] * point_A[1] + R[0][2] * point_A[2] + R[0][3] * point_A[3]  # New x\n",
    "point_B_y = R[1][0] * point_A[0] + R[1][1] * point_A[1] + R[1][2] * point_A[2] + R[1][3] * point_A[3]  # New y\n",
    "point_B_z = R[2][0] * point_A[0] + R[2][1] * point_A[1] + R[2][2] * point_A[2] + R[2][3] * point_A[3]  # New z\n",
    "point_B_w = R[3][0] * point_A[0] + R[3][1] * point_A[1] + R[3][2] * point_A[2] + R[3][3] * point_A[3]  # Homogeneous coordinate - should be 1\n",
    "\n",
    "# Output the new point coordinates in frame B\n",
    "print(f\"Coordinates of the point in frame B: ({\"%.2f\"%point_B_x}, {\"%.2f\"%point_B_y}, {\"%.2f\"%point_B_z}(, {\"%.2f\"%point_B_w}))\")\n",
    "\n",
    "pointP_A = (\"%.2f\"%point_B_x, \"%.2f\"%point_B_y, \"%.2f\"%point_B_z, \"%.2f\"%point_B_w)\n",
    "\n",
    "print(np.matrix(pointP_A))\n",
    "\n",
    "\n"
   ]
  },
  {
   "cell_type": "markdown",
   "id": "28e16656-6db3-40bd-a487-9c8165413d68",
   "metadata": {},
   "source": [
    "### Explanation:\n",
    "\n",
    "1. **Rotation matrix**: \n",
    "   \\[\n",
    "   \\begin{bmatrix}\n",
    "   \\cos(\\theta) & -\\sin(\\theta) & 0 & 0 \\\\\n",
    "   \\sin(\\theta) & \\cos(\\theta)  & 0 & 0 \\\\\n",
    "   0            & 0             & 1 & 0 \\\\\n",
    "   0            & 0             & 0 & 1 \\\\\n",
    "   \\end{bmatrix}\n",
    "   \\]\n",
    "   This handles the rotation part.\n",
    "\n",
    "2. **Translation**:\n",
    "   - The translation part is added as $[20, 10, 0]$ in the last column of the transformation matrix.\n",
    "\n",
    "3. **Manual multiplication**:\n",
    "   - Each component of the new point coordinates is computed manually:\n",
    "     $$\n",
    "     \\\\x_B = (R_{00} \\cdot x_A) + (R_{01} \\cdot y_A) + (R_{02} \\cdot z_A) + (R_{03} \\cdot 1)\n",
    "     $$\n",
    "     and similarly for $y_B$ and $z_B$.\n",
    "\n",
    "\n",
    "     \\[\n",
    "   \\begin{bmatrix}\n",
    "   \\cos(\\theta) & -\\sin(\\theta) & 0 & 20 \\\\\n",
    "   \\sin(\\theta) & \\cos(\\theta)  & 0 & 10 \\\\\n",
    "   0            & 0             & 1 & 0 \\\\\n",
    "   0            & 0             & 0 & 1 \\\\\n",
    "   \\end{bmatrix}                          *  \\begin{bmatrix}\n",
    "   3.1\\\\\n",
    "   8\\\\\n",
    "   2\\\\\n",
    "   1\\\\\n",
    "   \\end{bmatrix}\n",
    "   \\]\n",
    "   \\]\n",
    "\n",
    "\n",
    "5. **Result**: The output gives you the transformed coordinates of the point in frame `B`.\n"
   ]
  },
  {
   "cell_type": "markdown",
   "id": "4df25eba-58ad-4d4c-87bc-dd02b9c67a1e",
   "metadata": {},
   "source": [
    "#### Step-by-step process:\n",
    "\n",
    "1. **Homogenous transformation matrix $T$"
   ]
  },
  {
   "cell_type": "markdown",
   "id": "0b3c6acd-8615-4521-ad15-af527680d220",
   "metadata": {},
   "source": [
    "---"
   ]
  },
  {
   "cell_type": "code",
   "execution_count": 20,
   "id": "08e7a75b-3f46-4ebe-8379-3ee7ada83538",
   "metadata": {},
   "outputs": [
    {
     "data": {
      "text/plain": [
       "<Axes3D: xlabel='X', ylabel='Y', zlabel='Z'>"
      ]
     },
     "execution_count": 20,
     "metadata": {},
     "output_type": "execute_result"
    },
    {
     "data": {
      "image/png": "[encoded data removed]",
      "text/plain": [
       "<Figure size 640x480 with 1 Axes>"
      ]
     },
     "metadata": {},
     "output_type": "display_data"
    }
   ],
   "source": [
    "import math\n",
    "import numpy as np\n",
    "from scipy import linalg, optimize\n",
    "import matplotlib.pyplot as plt\n",
    "from spatialmath import *\n",
    "from spatialmath.base import *\n",
    "from spatialmath.base import sym\n",
    "from spatialgeometry import *\n",
    "from roboticstoolbox import *\n",
    "\n",
    "R = rotz(70)\n",
    "trplot(R)"
   ]
  },
  {
   "cell_type": "code",
   "execution_count": 22,
   "id": "8e9c9a34-19ac-4c9c-821f-db5d76ba65c4",
   "metadata": {},
   "outputs": [
    {
     "data": {
      "text/latex": [
       "$\\displaystyle \\left[\\begin{matrix}1.0 \\cos{\\left(\\theta \\right)} & - 1.0 \\sin{\\left(\\theta \\right)} & 5.0\\\\1.0 \\sin{\\left(\\theta \\right)} & 1.0 \\cos{\\left(\\theta \\right)} & 2.0\\\\0 & 0 & 1.0\\end{matrix}\\right]$"
      ],
      "text/plain": [
       "[[1.0*cos(theta), -1.0*sin(theta), 5.0], [1.0*sin(theta), 1.0*cos(theta), 2.0], [0, 0, 1.0]]"
      ]
     },
     "execution_count": 22,
     "metadata": {},
     "output_type": "execute_result"
    }
   ],
   "source": [
    "import math\n",
    "import numpy as np\n",
    "from scipy import linalg, optimize\n",
    "import matplotlib.pyplot as plt\n",
    "from spatialmath import *\n",
    "from spatialmath.base import *\n",
    "from spatialmath.base import sym\n",
    "from spatialgeometry import *\n",
    "from roboticstoolbox import *\n",
    "from sympy import *\n",
    "\n",
    "theta = Symbol('theta')\n",
    "simplify(transl2(5,2) @ trot2(theta))"
   ]
  },
  {
   "cell_type": "code",
   "execution_count": 24,
   "id": "6b5e278f-26e6-4b7a-bede-8fae142db20b",
   "metadata": {},
   "outputs": [
    {
     "data": {
      "text/latex": [
       "$\\displaystyle \\left[\\begin{matrix}1.0 \\cos{\\left(\\theta \\right)} & - 1.0 \\sin{\\left(\\theta \\right)} & - 2.0 \\sin{\\left(\\theta \\right)} + 5.0 \\cos{\\left(\\theta \\right)}\\\\1.0 \\sin{\\left(\\theta \\right)} & 1.0 \\cos{\\left(\\theta \\right)} & 5.0 \\sin{\\left(\\theta \\right)} + 2.0 \\cos{\\left(\\theta \\right)}\\\\0.0 & 0.0 & 1.0\\end{matrix}\\right]$"
      ],
      "text/plain": [
       "[[1.0*cos(theta), -1.0*sin(theta), -2.0*sin(theta) + 5.0*cos(theta)], [1.0*sin(theta), 1.0*cos(theta), 5.0*sin(theta) + 2.0*cos(theta)], [0.0, 0.0, 1.0]]"
      ]
     },
     "execution_count": 24,
     "metadata": {},
     "output_type": "execute_result"
    }
   ],
   "source": [
    "simplify( trot2(theta)@ transl2(5,2))"
   ]
  },
  {
   "cell_type": "code",
   "execution_count": null,
   "id": "5af36c21-14d6-4a9d-9dec-9f043ef2d1f3",
   "metadata": {},
   "outputs": [],
   "source": []
  }
 ],
 "metadata": {
  "kernelspec": {
   "display_name": "Python 3 (ipykernel)",
   "language": "python",
   "name": "python3"
  },
  "language_info": {
   "codemirror_mode": {
    "name": "ipython",
    "version": 3
   },
   "file_extension": ".py",
   "mimetype": "text/x-python",
   "name": "python",
   "nbconvert_exporter": "python",
   "pygments_lexer": "ipython3",
   "version": "3.12.4"
  }
 },
 "nbformat": 4,
 "nbformat_minor": 5
}
